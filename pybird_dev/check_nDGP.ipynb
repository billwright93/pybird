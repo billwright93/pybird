{
 "cells": [
  {
   "cell_type": "code",
   "execution_count": null,
   "metadata": {},
   "outputs": [],
   "source": [
    "# Import relevant modules\n",
    "import matplotlib\n",
    "import matplotlib.pyplot as plt\n",
    "import numpy as np\n",
    "from classy import Class\n",
    "import pybird\n",
    "from importlib import reload"
   ]
  },
  {
   "cell_type": "code",
   "execution_count": null,
   "metadata": {},
   "outputs": [],
   "source": [
    "# Plotting style\n",
    "font = {'size': 16, 'family': 'STIXGeneral'}\n",
    "axislabelfontsize='large'\n",
    "matplotlib.rc('font', **font)\n",
    "matplotlib.mathtext.rcParams['legend.fontsize']='medium'\n",
    "plt.rcParams[\"figure.figsize\"] = [8.0,6.0]"
   ]
  },
  {
   "cell_type": "code",
   "execution_count": null,
   "metadata": {},
   "outputs": [],
   "source": [
    "# Load Greens Functions\n",
    "\n",
    "#GF = GreenFunction(self.Omega0_m, w=self.w0, quintessence=self.co.quintessence, MG=self.co.MG, Omega_rc=self.co.Omega_rc, nDGP=self.co.nDGP)\n",
    "GF_LCDM = pybird.GreenFunction(0.25, -1., False, False, None, False)\n",
    "GF_wCDM = pybird.GreenFunction(0.25, -0.9, False, False, None, False)\n",
    "GF_quint = pybird.GreenFunction(0.25, -0.9, True, False, None, False)\n",
    "GF_nDGP = pybird.GreenFunction(0.25, -1., False, True, 0.5, True)"
   ]
  },
  {
   "cell_type": "code",
   "execution_count": null,
   "metadata": {},
   "outputs": [],
   "source": [
    "# Compute growth and decay\n",
    "a_arr = np.logspace(-3, 0., 100)\n",
    "LCDM_D_arr = np.zeros((len(a_arr),))\n",
    "wCDM_D_arr = np.zeros((len(a_arr),))\n",
    "quint_D_arr = np.zeros((len(a_arr),))\n",
    "nDGP_D_arr = np.zeros((len(a_arr),))\n",
    "LCDM_Dminus_arr = np.zeros((len(a_arr),))\n",
    "wCDM_Dminus_arr = np.zeros((len(a_arr),))\n",
    "quint_Dminus_arr = np.zeros((len(a_arr),))\n",
    "nDGP_Dminus_arr = np.zeros((len(a_arr),))\n",
    "for ia, av in enumerate(a_arr):\n",
    "    LCDM_D_arr[ia] = GF_LCDM.D(av)\n",
    "    wCDM_D_arr[ia] = GF_wCDM.D(av)\n",
    "    quint_D_arr[ia] = GF_quint.D(av)\n",
    "    nDGP_D_arr[ia] = GF_nDGP.D(av)\n",
    "    LCDM_Dminus_arr[ia] = GF_LCDM.Dminus(av)\n",
    "    wCDM_Dminus_arr[ia] = GF_wCDM.Dminus(av)\n",
    "    quint_Dminus_arr[ia] = GF_quint.Dminus(av)\n",
    "    nDGP_Dminus_arr[ia] = GF_nDGP.Dminus(av)"
   ]
  },
  {
   "cell_type": "code",
   "execution_count": null,
   "metadata": {},
   "outputs": [],
   "source": [
    "# Take ratios to LCDM\n",
    "wCDM_LCDM_D_ratio_arr = [a/b for a, b in zip(wCDM_D_arr, LCDM_D_arr)]\n",
    "quint_LCDM_D_ratio_arr = [a/b for a, b in zip(quint_D_arr, LCDM_D_arr)]\n",
    "nDGP_LCDM_D_ratio_arr = [a/b for a, b in zip(nDGP_D_arr, LCDM_D_arr)]\n",
    "wCDM_LCDM_Dminus_ratio_arr = [a/b for a, b in zip(wCDM_Dminus_arr, LCDM_Dminus_arr)]\n",
    "quint_LCDM_Dminus_ratio_arr = [a/b for a, b in zip(quint_Dminus_arr, LCDM_Dminus_arr)]\n",
    "nDGP_LCDM_Dminus_ratio_arr = [a/b for a, b in zip(nDGP_Dminus_arr, LCDM_Dminus_arr)]"
   ]
  },
  {
   "cell_type": "code",
   "execution_count": null,
   "metadata": {},
   "outputs": [],
   "source": [
    "# Plot growth\n",
    "plt.figure()\n",
    "plt.semilogx(a_arr, np.ones((len(a_arr),)), 'k-')\n",
    "plt.semilogx(a_arr, wCDM_LCDM_D_ratio_arr, 'm-.', label='wCDM w=-0.9')\n",
    "plt.semilogx(a_arr, quint_LCDM_D_ratio_arr, 'b--', label='Quintessence w=-0.9')\n",
    "plt.semilogx(a_arr, nDGP_LCDM_D_ratio_arr, 'g:', label='nDGP Omega_rc=0.5')\n",
    "plt.xlabel(r'$a$')\n",
    "plt.ylabel(r'$D(a)$')\n",
    "plt.legend()\n",
    "plt.show()"
   ]
  },
  {
   "cell_type": "code",
   "execution_count": null,
   "metadata": {},
   "outputs": [],
   "source": [
    "# Plot decay\n",
    "plt.figure()\n",
    "plt.semilogx(a_arr, np.ones((len(a_arr),)), 'k-')\n",
    "plt.semilogx(a_arr, wCDM_LCDM_Dminus_ratio_arr, 'm-.', label='wCDM w=-0.9')\n",
    "plt.semilogx(a_arr, quint_LCDM_Dminus_ratio_arr, 'b--', label='Quintessence w=-0.9')\n",
    "plt.semilogx(a_arr, nDGP_LCDM_Dminus_ratio_arr, 'g:', label='nDGP Omega_rc=0.5')\n",
    "plt.xlabel(r'$a$')\n",
    "plt.ylabel(r'$D_{\\rm minus}(a)$')\n",
    "plt.legend()\n",
    "plt.show()"
   ]
  },
  {
   "cell_type": "code",
   "execution_count": null,
   "metadata": {},
   "outputs": [],
   "source": [
    "#\n",
    "# As a result of the crazy result for the nDGP decay mode\n",
    "# all the Greens function integrals are very slow\n",
    "#"
   ]
  },
  {
   "cell_type": "code",
   "execution_count": null,
   "metadata": {},
   "outputs": [],
   "source": [
    "# Try to get real-space matter power-spectrum for nDGP\n",
    "zpk = 1.\n",
    "kdata = np.linspace(0.005, 0.25, 50)\n",
    "cosmo_nDGP = {'ln10^{10}A_s': 3.044,\n",
    "       'n_s': 0.9649,\n",
    "       'h': 0.6736,\n",
    "       'omega_b': 0.02237,\n",
    "       'omega_cdm': 0.120,\n",
    "      }\n",
    "bs = [2., 0.8, 0.2, 0.8, 0.2, -4., 0]\n",
    "bdict_mmult0 = {\"cct\": bs[4]}\n",
    "\n",
    "reload(pybird)\n",
    "correlator_nDGP = pybird.Correlator()\n",
    "correlator_nDGP.set({\n",
    "    'output': 'mPk', #mPk, bPk, mCf, bCf, bmPk, bmCf, w (angular Cf)\n",
    "    'multipole': 0, #0 =real, 2=mono+quad, 3=mono+quad+hexadec\n",
    "    'with_exact_time': True,\n",
    "    'xdata': kdata,\n",
    "    'z': zpk,\n",
    "    'optiresum': False,\n",
    "    'kmax': 0.3,\n",
    "    'with_AP': False,\n",
    "    'with_nDGP': True,\n",
    "    #'with_bias': True,\n",
    "    'Omega_rc': 0.5,\n",
    "})\n",
    "correlator_nDGP.compute(cosmo_nDGP, module='class')\n",
    "mPk_nDGP = correlator_nDGP.get(bdict_mmult0)"
   ]
  },
  {
   "cell_type": "code",
   "execution_count": null,
   "metadata": {},
   "outputs": [],
   "source": [
    "print(mPk_nDGP)"
   ]
  }
 ],
 "metadata": {
  "kernelspec": {
   "display_name": "Python 3",
   "language": "python",
   "name": "python3"
  },
  "language_info": {
   "codemirror_mode": {
    "name": "ipython",
    "version": 3
   },
   "file_extension": ".py",
   "mimetype": "text/x-python",
   "name": "python",
   "nbconvert_exporter": "python",
   "pygments_lexer": "ipython3",
   "version": "3.8.3"
  }
 },
 "nbformat": 4,
 "nbformat_minor": 4
}
